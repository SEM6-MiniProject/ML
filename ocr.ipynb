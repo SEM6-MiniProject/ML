{
 "cells": [
  {
   "cell_type": "code",
   "execution_count": 1,
   "metadata": {},
   "outputs": [],
   "source": [
    "from PIL import Image\n",
    "import pytesseract\n",
    "import configuration\n",
    "import sqlite3"
   ]
  },
  {
   "cell_type": "code",
   "execution_count": 2,
   "metadata": {},
   "outputs": [],
   "source": [
    "pytesseract.pytesseract.tesseract_cmd = r'C:\\Program Files\\Tesseract-OCR\\tesseract.exe'"
   ]
  },
  {
   "cell_type": "code",
   "execution_count": 3,
   "metadata": {},
   "outputs": [],
   "source": [
    "def ocr_processing(filename):\n",
    "    \n",
    "    text = pytesseract.image_to_string (Image.open(filename),config='--psm 12 --oem 3')  # We'll use Pillow's Image class to open the image and pytesseract to detect the string in the image\n",
    "           \n",
    "    return text\n",
    "\n"
   ]
  },
  {
   "cell_type": "code",
   "execution_count": 4,
   "metadata": {},
   "outputs": [
    {
     "data": {
      "text/plain": [
       "'CITY PATHOLOGY LAB\\n\\nManchester M13 9NQ\\n\\nUK\\n\\nName\\n\\nMukesh Rao\\n\\nCollected\\n\\n:24/2/2020\\n\\nReceived\\n\\n: 24/2/2020\\n\\nLab No.\\n\\n134315810\\n\\nAge\\n\\nGender:\\n\\nReported\\n\\n:25/2/2020\\n\\nAc Status\\n\\nP\\n\\nRef By :\\n\\nReport Status\\n\\n: Final\\n\\nTest Name : FEVER PANEL\\n\\nCOMPLETE BLOOD COUNT (CBC)\\n\\n(Electrical Impedance & VCS,Photometry )\\n\\nResults\\n\\nUnits\\n\\nNormal Range\\n\\nHemoglobin\\n\\n13.30\\n\\ng/DL\\n\\n14-18\\n\\nPacked Cell Volume (PCV)\\n\\n42.80\\n\\nL/L\\n\\n35-90\\n\\nRBC Count\\n\\n5.27\\n\\nmil/mm3\\n\\n4.5-6\\n\\nMCV\\n\\n86.00\\n\\nfL\\n\\n82-98\\n\\nMCH\\n\\n28.20\\n\\npg\\n\\n27-31\\n\\nMCHC\\n\\n34\\n\\ng/dL\\n\\n32-36\\n\\nRed Cell DistributionWidth(RDW)\\n\\n13.50\\n\\n%\\n\\n11-16\\n\\nTotalLeukocyteCount (TLC)\\n\\n9.30\\n\\n1000/L\\n\\n4.5-11\\n\\nDifferential Leucocyte Count (DLC)\\n\\nSegmented Neutrophils\\n\\n66.40\\n\\n%\\n\\n40-75\\n\\nLymphocytes\\n\\n35.70\\n\\n%\\n\\n15-45\\n\\nMonocytes\\n\\n8.90\\n\\n%\\n\\n2-12\\n\\nEosinophils\\n\\n4.10\\n\\n%\\n\\n2-6\\n\\nBasophils\\n\\n0.40\\n\\n%\\n\\n0-1\\n\\nAbsolute Leucocyte Count\\n\\nNeutrophils\\n\\n8.30\\n\\n%\\n\\n5-10\\n\\nLymphocytes\\n\\n2.75\\n\\n%\\n\\n1-3\\n\\nMonocytes\\n\\n0.54\\n\\n%\\n\\n0-1\\n\\nEosinophils\\n\\n0.34\\n\\n%\\n\\n0-1\\n\\nBasophils\\n\\n0.20\\n\\n%\\n\\n0-1\\n\\nPlatelet Count\\n\\n290\\n\\nNote\\n\\n1. As per the recommendation of International council for Standardization in Hematology, the differential\\n\\nleucocyte counts are additionally being reported as absolute numbers of each cell in per unit volume of\\n\\nblood\\n\\n2. Test conducted on EDTA whole blood\\n\\nmukesh@gmail.com\\n'"
      ]
     },
     "execution_count": 4,
     "metadata": {},
     "output_type": "execute_result"
    }
   ],
   "source": [
    "ocr_processing(\"./Reports/Mukesh.jpg\")"
   ]
  },
  {
   "cell_type": "code",
   "execution_count": 5,
   "metadata": {},
   "outputs": [],
   "source": [
    "def insert_into_db(patient_data_dict):\n",
    "           \n",
    "    con = sqlite3.connect('./Lab_Reports.db', timeout=10)\n",
    "    if con:\n",
    "        print(\"OK\")\n",
    "    else:\n",
    "        print(\"NOT OK\")\n",
    "    \n",
    "    cur = con.cursor()\n",
    "    h=patient_data_dict['Hemoglobin']\n",
    "    pcv=patient_data_dict['PCV']\n",
    "    rbc=patient_data_dict['RBC']\n",
    "    mcv=patient_data_dict['MCV']\n",
    "    mch=patient_data_dict['MCH'] \n",
    "    mchc=patient_data_dict['MCHC']\n",
    "    rdw=patient_data_dict['RDW']\n",
    "    tlc=patient_data_dict['TLC']\n",
    "    pc=patient_data_dict['Platelet_Count']\n",
    "    sql_query = \"CREATE TABLE CITY_PATHOLOGY_LAB_FEVER_PANEL (Patient_Name varchar(100) NOT NULL,Hemoglobin varchar(100) NOT NULL,PCV varchar(100) NOT NULL,RBC varchar(100) NOT NULL,MCV varchar(100) NOT NULL,MCH varchar(100) NOT NULL,MCHC varchar(100) NOT NULL,RDW varchar(100) NOT NULL,TLC varchar(100) NOT NULL,Platelet_Count varchar(100) NOT NULL,status,username varchar(100) NOT NULL,dates varchar(100) NOT NULL)\"\n",
    "    cur.execute(sql_query)\n",
    "    if ((float(h)>=14 and float(h)<=18) and (float(pcv)>=35 and float(pcv)<=90) and (float(rbc)>=4.5 and float(rbc)<=6)and (float(mcv) >=82 and float(mcv)<=98) and (float(mch) >=27 and float(mch)<31) and (float(mchc) >=32 and float(mchc)<=36) and (float(rdw) >=11 and float(rdw)<=16) and (float(tlc) >=4.5 and float(tlc)<=11) and (float(pc) >=150 and float(pc)<=450)):\n",
    "        sql_query = \"INSERT INTO CITY_PATHOLOGY_LAB_FEVER_PANEL (Patient_Name,Hemoglobin,PCV,RBC,MCV,MCH,MCHC,RDW,TLC,Platelet_Count,status,username,dates) VALUES (?,?,?,?,?,?,?,?,?,?,'rejected',?,DateTime('now'))\"\n",
    "        cur.execute(sql_query,(patient_data_dict['Patient_Name'],patient_data_dict['Hemoglobin'],patient_data_dict['PCV'],  \n",
    "        patient_data_dict['RBC'],patient_data_dict['MCV'],patient_data_dict['MCH'], \n",
    "        patient_data_dict['MCHC'],patient_data_dict['RDW'],patient_data_dict['TLC'], \n",
    "        patient_data_dict['Platelet_Count'], patient_data_dict['username']))\n",
    "\n",
    "    elif((float(h)<14 or float(h)>18) or (float(pcv)<35 or float(pcv)>90) or (float(rbc)<4.5 or float(rbc)>6)or (float(mcv) <82 or float(mcv)>98) or (float(mch) <27 or float(mch)>31) or (float(mchc) <32 or float(mchc)>36) or (float(rdw) <11 or float(rdw)>16) or (float(tlc) <4.5 or float(tlc)>11) or (float(pc) <150 or float(pc)>450)):\n",
    "        sql_query = \"INSERT INTO CITY_PATHOLOGY_LAB_FEVER_PANEL (Patient_Name,Hemoglobin,PCV,RBC,MCV,MCH,MCHC,RDW,TLC,Platelet_Count,status,username,dates) VALUES (?,?,?,?,?,?,?,?,?,?,'accepted',?,DateTime('now'))\"\n",
    "        cur.execute(sql_query,(patient_data_dict['Patient_Name'],patient_data_dict['Hemoglobin'],patient_data_dict['PCV'],  \n",
    "        patient_data_dict['RBC'],patient_data_dict['MCV'],patient_data_dict['MCH'], \n",
    "        patient_data_dict['MCHC'],patient_data_dict['RDW'],patient_data_dict['TLC'], \n",
    "        patient_data_dict['Platelet_Count'],patient_data_dict['username']))\n",
    "\n",
    "    \n",
    "\n",
    "\n",
    "    con.commit()\n",
    "    con.close()  \n"
   ]
  },
  {
   "cell_type": "code",
   "execution_count": 8,
   "metadata": {},
   "outputs": [],
   "source": [
    "def file_processing(filename): \n",
    "    \n",
    "    try:      \n",
    "        \n",
    "\n",
    "        #Python-tesseract is a wrapper for Google’s Tesseract-OCR Engine. Here we connect with tesseract, which installed on system\n",
    "\n",
    "        # pytesseract.pytesseract.tesseract_cmd = r'C:\\Program Files\\Tesseract-OCR\\tesseract.exe'\n",
    "\n",
    "        #Passing image to ocr_processing function\n",
    "\n",
    "        data = ocr_processing(filename)\n",
    "\n",
    "        #Converting string to list by using split function, where \\n is used as split parameter\n",
    "\n",
    "        data_extracted_from_image = data.split('\\n')\n",
    "\n",
    "        #Creating new list list_without_null_values, where all null values are removed\n",
    "\n",
    "        list_without_null_values = [i for i in data_extracted_from_image if i]\n",
    "\n",
    "        #Data in list along with index\n",
    "\n",
    "        #for index, value in enumerate(list_without_null_values): \n",
    "        #    print(index, value)\n",
    "\n",
    "        #Check if the repory belongs to approved lab and test\n",
    "\n",
    "        if (list_without_null_values[0] in configuration.approved_labs) and (list_without_null_values[20].replace(\"Test Name : \",\"\") in configuration.approved_tests):\n",
    "\n",
    "            #Creating dict with report details\n",
    "\n",
    "            default_dict = {\n",
    "            'Lab_Name':list_without_null_values[0],\n",
    "            'Patient_Name':list_without_null_values[4],\n",
    "            'Test_Name':list_without_null_values[20],\n",
    "            'Hemoglobin':list_without_null_values[27],\n",
    "            'PCV':list_without_null_values[31],\n",
    "            'RBC':list_without_null_values[35],\n",
    "            'MCV':list_without_null_values[39],\n",
    "            'MCH':list_without_null_values[43],\n",
    "            'MCHC':list_without_null_values[47],\n",
    "            'RDW':list_without_null_values[51],\n",
    "            'TLC':list_without_null_values[55],\n",
    "            'Platelet_Count':list_without_null_values[101],\n",
    "            'username':list_without_null_values[107]\n",
    "            }\n",
    "\n",
    "            # insert_into_db(default_dict)\n",
    "            print(default_dict)\n",
    "           \n",
    "            text = \"Submitted Reports of Patient Name :- \" + default_dict['Patient_Name']\n",
    "            \n",
    "            return text\n",
    "        \n",
    "        else:\n",
    "\n",
    "            text = \"Invalid File Report\"\n",
    "            \n",
    "            return text        \n",
    "        \n",
    "    except Exception as e:\n",
    "        print(e)\n",
    "        text = \"Error occurred during file processing!!\"\n",
    "        \n",
    "        return text     \n",
    "       \n",
    "    \n"
   ]
  },
  {
   "cell_type": "code",
   "execution_count": 11,
   "metadata": {},
   "outputs": [
    {
     "name": "stdout",
     "output_type": "stream",
     "text": [
      "{'Lab_Name': 'CITY PATHOLOGY LAB', 'Patient_Name': 'Ramesh Patel', 'Test_Name': 'Test Name : FEVER PANEL', 'Hemoglobin': '15.30', 'PCV': '44.80', 'RBC': 'Buf', 'MCV': '85.00', 'MCH': '28.20', 'MCHC': '33.80', 'RDW': '13.50', 'TLC': '10.00', 'Platelet_Count': '300', 'username': 'ramesh@gmail.com'}\n"
     ]
    },
    {
     "data": {
      "text/plain": [
       "'Submitted Reports of Patient Name :- Ramesh Patel'"
      ]
     },
     "execution_count": 11,
     "metadata": {},
     "output_type": "execute_result"
    }
   ],
   "source": [
    "file_processing(\"./Reports/Ramesh-Normal.jpg\")"
   ]
  },
  {
   "cell_type": "code",
   "execution_count": null,
   "metadata": {},
   "outputs": [],
   "source": []
  }
 ],
 "metadata": {
  "kernelspec": {
   "display_name": "Python 3.9.13 64-bit (microsoft store)",
   "language": "python",
   "name": "python3"
  },
  "language_info": {
   "codemirror_mode": {
    "name": "ipython",
    "version": 3
   },
   "file_extension": ".py",
   "mimetype": "text/x-python",
   "name": "python",
   "nbconvert_exporter": "python",
   "pygments_lexer": "ipython3",
   "version": "3.9.7"
  },
  "orig_nbformat": 4,
  "vscode": {
   "interpreter": {
    "hash": "5013dc45d8eac9c4c0acde63bd1bd3d342b890d47eb50780d34136d2e56e1a58"
   }
  }
 },
 "nbformat": 4,
 "nbformat_minor": 2
}
